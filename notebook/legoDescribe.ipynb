{
 "cells": [
  {
   "cell_type": "code",
   "execution_count": null,
   "metadata": {},
   "outputs": [],
   "source": [
    "import numpy as np # linear algebra\n",
    "import pandas as pd # data processing, CSV file I/O (e.g. pd.read_csv)"
   ]
  },
  {
   "cell_type": "code",
   "execution_count": null,
   "metadata": {},
   "outputs": [],
   "source": [
    "## frequency of parts overall and across sets\n",
    "inv_parts = pd.read_csv(\"../data/raw/inventory_parts.csv\")\n",
    "parts = pd.read_csv(\"../data/raw/parts.csv\")\n",
    "\n",
    "freq_sets = {}\n",
    "for e in inv_parts.part_num.tolist():\n",
    "    if e in freq_sets:\n",
    "        freq_sets[e] += 1\n",
    "    else:\n",
    "        freq_sets.update({e: 1})\n",
    "\n",
    "# todo: convert to df, add column with sum of quantity for each part num "
   ]
  }
 ],
 "metadata": {
  "language_info": {
   "codemirror_mode": {
    "name": "ipython",
    "version": 3
   },
   "file_extension": ".py",
   "mimetype": "text/x-python",
   "name": "python",
   "nbconvert_exporter": "python",
   "pygments_lexer": "ipython3",
   "version": "3.7.6-final"
  },
  "orig_nbformat": 2,
  "kernelspec": {
   "name": "python38232bit7103072575f14358a1c70d977d3a3f1f",
   "display_name": "Python 3.8.2 32-bit"
  }
 },
 "nbformat": 4,
 "nbformat_minor": 2
}