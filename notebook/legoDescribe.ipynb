{
 "cells": [
  {
   "cell_type": "code",
   "execution_count": null,
   "metadata": {},
   "outputs": [],
   "source": [
    "import numpy as np # linear algebra\n",
    "import pandas as pd # data processing, CSV file I/O (e.g. pd.read_csv)\n",
    "import re # regex"
   ]
  },
  {
   "cell_type": "code",
   "execution_count": null,
   "metadata": {},
   "outputs": [],
   "source": [
    "## frequency of parts overall and across sets\n",
    "inv_parts = pd.read_csv(\"../data/raw/inventory_parts.csv\")\n",
    "parts = pd.read_csv(\"../data/raw/parts.csv\")\n",
    "\n",
    "freq_sets = {}\n",
    "for e in inv_parts.part_num.tolist():\n",
    "    if e in freq_sets:\n",
    "        freq_sets[e] += 1\n",
    "    else:\n",
    "        freq_sets.update({e: 1})\n",
    "\n",
    "# todo: convert to df, add column with sum of quantity for each part_num "
   ]
  },
  {
   "cell_type": "code",
   "execution_count": null,
   "metadata": {},
   "outputs": [],
   "source": [
    "## visualize rise and cease of lego parts over time in a density plot each part_num\n",
    "# note that processing time takes forever\n",
    "\n",
    "inv_parts = pd.read_csv(\"../data/raw/inventory_parts.csv\")\n",
    "inv_fig = pd.read_csv(\"../data/raw/inventory_minifigs.csv\")\n",
    "parts = pd.read_csv(\"../data/raw/parts.csv\")\n",
    "sets = pd.read_csv(\"../data/raw/sets.csv\")\n",
    "inventories = pd.read_csv(\"../data/raw/inventories.csv\")\n",
    "relation = pd.read_csv(\"../data/raw/part_relationships.csv\")\n",
    "\n",
    "# replace child_part_num with parent_part_num in inventories df\n",
    "invParent = inv_parts.copy()\n",
    "childToParent = pd.Series(relation.parent_part_num.values, index=relation.child_part_num).to_dict()\n",
    "invParent['part_num'].replace(childToParent, inplace=True)\n",
    "\n",
    "# eliminate all part_num containing stickers, non-lego (eg booklets),  \n",
    "partsClean = parts.copy()\n",
    "childPartNum = []\n",
    "for p in relation.child_part_num:\n",
    "    childPartNum.append(partsClean[partsClean['part_num'] == p].index.values[0])\n",
    "partsClean.drop(childPartNum, inplace=True)\n",
    "partsClean.drop(partsClean[partsClean['part_cat_id'] == 58].index, inplace=True)\n",
    "partsClean.drop(partsClean[partsClean['part_cat_id'] == 17].index, inplace=True)\n",
    "\n",
    "# map the sets which contain part_num to the according year\n",
    "partsOverTime_sets = pd.DataFrame(columns=['part_num','name']+list(range(1949,2021)))\n",
    "# loop over all part_num p in inv_parts.part_num to fill in df partsOverTime_sets\n",
    "for p in partsClean.part_num:\n",
    "    # idk if good or bad coding style, but it makes me feel safe and helps debugging\n",
    "    partToId = 0\n",
    "    idToSet = 0\n",
    "    setToYear = 0\n",
    "    figToId = 0\n",
    "    removeFig = []\n",
    "    # init part dict with part_num, name and years from 1949 to 2020\n",
    "    part = {'part_num' : p}\n",
    "    part.update({'name' : parts[parts['part_num'] == p].iloc[0,1]})\n",
    "    for y in list(range(1949, 2021)):\n",
    "        part.update({y: 0})\n",
    "    # part to inventory id (list)\n",
    "    partToId = invParent[invParent['part_num'] == p].inventory_id.to_list()\n",
    "    # remove duplicates from list, since these are parts occuring multiple times due different colors\n",
    "    partToId = list(dict.fromkeys(partToId)) \n",
    "    # inventory id to set num\n",
    "    idToSet = [inventories[inventories['id'] == e].iloc[0,2] for e in partToId]\n",
    "    # in case of figures (set_num = fig-...) we need to go to inv_fig to get inv_id (list) -> inventories to get set_num(s) \n",
    "    for f in idToSet:\n",
    "        if re.match(r\"fig-[0-9]+\", f):\n",
    "            figToId = inv_fig[inv_fig['fig_num'] == f].inventory_id.to_list()\n",
    "            removeFig.append(f)\n",
    "            idToSet.extend([inventories[inventories['id'] == e].iloc[0,2] for e in figToId])\n",
    "    idToSet = [e for e in idToSet if e not in removeFig]\n",
    "    # set num to year\n",
    "    setToYear = [sets[sets['set_num'] == e].iloc[0,2] for e in idToSet]\n",
    "    # update dict of part with occurences per year\n",
    "    for e in setToYear:\n",
    "            part[e] += 1\n",
    "    # finally append dict part as row to df partsOverTime_sets\n",
    "    partsOverTime_sets = partsOverTime_sets.append(part, ignore_index=True)\n",
    "\n",
    "# sum up sets / occurences across all years\n",
    "\n",
    "# create csv with sets(years) series: part_num, name, year_<min>, ..., year_<max> <- which contain the quantity of sets with part_num in this year\n",
    "# note that min(year) = 1949 and max(year) = 2020 but only until may\n",
    "partsOverTime_sets.to_csv(\"../data/processed/partsOverTime.csv\", index = False)\n",
    "\n",
    "## maybe later:\n",
    "# map part quantity to the accoring year, note that diffrent colors shall count as same part\n",
    "# create csv with quantity(years) series: part_num, name, year_<min>, ..., year_<max> <- which contain the quantity overall for part_num in this year"
   ]
  },
  {
   "cell_type": "code",
   "execution_count": null,
   "metadata": {},
   "outputs": [],
   "source": [
    "partsOverTime_sets.describe()"
   ]
  }
 ],
 "metadata": {
  "language_info": {
   "codemirror_mode": {
    "name": "ipython",
    "version": 3
   },
   "file_extension": ".py",
   "mimetype": "text/x-python",
   "name": "python",
   "nbconvert_exporter": "python",
   "pygments_lexer": "ipython3",
   "version": "3.7.6-final"
  },
  "orig_nbformat": 2,
  "kernelspec": {
   "name": "python38232bit7103072575f14358a1c70d977d3a3f1f",
   "display_name": "Python 3.8.2 32-bit"
  }
 },
 "nbformat": 4,
 "nbformat_minor": 2
}