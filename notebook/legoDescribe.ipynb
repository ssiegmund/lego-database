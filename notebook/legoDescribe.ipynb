{
 "cells": [
  {
   "cell_type": "code",
   "execution_count": null,
   "metadata": {},
   "outputs": [],
   "source": [
    "import numpy as np # linear algebra\n",
    "import pandas as pd # data processing, CSV file I/O (e.g. pd.read_csv)"
   ]
  },
  {
   "cell_type": "code",
   "execution_count": null,
   "metadata": {},
   "outputs": [],
   "source": [
    "## frequency of parts overall and across sets\n",
    "inv_parts = pd.read_csv(\"../data/raw/inventory_parts.csv\")\n",
    "parts = pd.read_csv(\"../data/raw/parts.csv\")\n",
    "\n",
    "freq_sets = {}\n",
    "for e in inv_parts.part_num.tolist():\n",
    "    if e in freq_sets:\n",
    "        freq_sets[e] += 1\n",
    "    else:\n",
    "        freq_sets.update({e: 1})\n",
    "\n",
    "# todo: convert to df, add column with sum of quantity for each part_num "
   ]
  },
  {
   "cell_type": "code",
   "execution_count": null,
   "metadata": {},
   "outputs": [],
   "source": [
    "## visualize rise and cease of lego parts over time in a density plot each part_num\n",
    "inv_parts = pd.read_csv(\"../data/raw/inventory_parts.csv\")\n",
    "parts = pd.read_csv(\"../data/raw/parts.csv\")\n",
    "sets = pd.read_csv(\"../data/raw/sets.csv\")\n",
    "\n",
    "# map the sets which contain part_num to the according year, also sum up quantity of part_num for this year while we already handle the sets \n",
    "partsOverTime_sets = \n",
    "\n",
    "partsOverTime_quant = \n",
    "\n",
    "# sum up sets across all years, as well as quantity across all years\n",
    "\n",
    "# eliminate all part_num containing figures, mini sets, stickers, duplo & co such that there is only sets from lego system alike, also consider all printed versions as one\n",
    "# Q: not sure to also exclude lego technic in future\n",
    "\n",
    "# create csv with sets(years) series: part_num, sum, year_<min>, ..., year_<max> <- which contain the quantity of sets with part_num in this year\n",
    "# note that min(year) = 1949 and max(year) = 2020 but only until may\n",
    "\n",
    "# create csv with quantity(years) series: part_num, sum, year_<min>, ..., year_<max> <- which contain the quantity overall for part_num in this year"
   ]
  }
 ],
 "metadata": {
  "language_info": {
   "codemirror_mode": {
    "name": "ipython",
    "version": 3
   },
   "file_extension": ".py",
   "mimetype": "text/x-python",
   "name": "python",
   "nbconvert_exporter": "python",
   "pygments_lexer": "ipython3",
   "version": "3.7.6-final"
  },
  "orig_nbformat": 2,
  "kernelspec": {
   "name": "python38232bit7103072575f14358a1c70d977d3a3f1f",
   "display_name": "Python 3.8.2 32-bit"
  }
 },
 "nbformat": 4,
 "nbformat_minor": 2
}